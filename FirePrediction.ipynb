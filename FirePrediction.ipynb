{
 "cells": [
  {
   "cell_type": "markdown",
   "metadata": {
    "colab_type": "text",
    "id": "9owHpJecwq7g"
   },
   "source": [
    "# Fighting Fire with Data - Starter Notebook\n",
    "\n",
    "This notebook should help you get started with the 'Fighting Fire with Data' hackathon on Zindi. In it we cover:\n",
    "- Loading the data\n",
    "- Simple EDA and an example of feature enginnering\n",
    "- Suggestions for validation split\n",
    "- Creating a simple model\n",
    "- Making a submission\n",
    "- Some tips for improving your score\n"
   ]
  },
  {
   "cell_type": "markdown",
   "metadata": {
    "colab_type": "text",
    "id": "xKcJuq7bxof_"
   },
   "source": [
    "# Setup\n",
    "\n",
    "Make sure the files are available in the current directory. On Colab, upload them using the files tab on the left."
   ]
  },
  {
   "cell_type": "code",
   "execution_count": 2,
   "metadata": {
    "colab": {
     "base_uri": "https://localhost:8080/",
     "height": 34
    },
    "colab_type": "code",
    "id": "lwa4zIHBGh41",
    "outputId": "8e15a9ee-e727-4691-837d-703db95d6e72"
   },
   "outputs": [
    {
     "name": "stdout",
     "output_type": "stream",
     "text": [
      "data/Test.csv  data/Train.csv  data/variable_definitions.csv\r\n"
     ]
    }
   ],
   "source": [
    "!ls data/*.csv # List files to check train, ss and test are present"
   ]
  },
  {
   "cell_type": "code",
   "execution_count": 176,
   "metadata": {
    "colab": {},
    "colab_type": "code",
    "id": "2lLzfdilxfsY"
   },
   "outputs": [],
   "source": [
    "import pandas as pd\n",
    "from sklearn.linear_model import RidgeCV\n",
    "from sklearn.ensemble import RandomForestRegressor\n",
    "from sklearn.metrics import mean_squared_error, r2_score\n",
    "from matplotlib import pyplot as plt\n",
    "import numpy as np\n",
    "import seaborn as sns\n",
    "from sklearn.preprocessing import StandardScaler\n",
    "from sklearn.pipeline import Pipeline\n",
    "from sklearn.svm import SVR\n",
    "from sklearn.model_selection import GridSearchCV, StratifiedKFold\n",
    "from sklearn.utils.fixes import loguniform\n",
    "from scipy.stats import uniform as sp_rand\n",
    "import scipy.stats as stats"
   ]
  },
  {
   "cell_type": "code",
   "execution_count": 157,
   "metadata": {},
   "outputs": [],
   "source": [
    "class FireCustomKFold:\n",
    "    def __init__(self, n_splits=3):\n",
    "        self.n_splits = n_splits\n",
    "\n",
    "    def split(self, X, y, groups=None):\n",
    "        train = X.loc[train_all.date < '2011-01-01']\n",
    "        valid = X.loc[train_all.date >= '2011-01-01']\n",
    "        skf = StratifiedKFold(n_splits=self.n_splits)\n",
    "        for (rx, tx), (rmx, tmx) in zip(skf.split(train, y[train.index]), skf.split(test, y[test.index])):\n",
    "            yield rx, tmx\n",
    "\n",
    "    def get_n_splits(self, X, y, groups=None):\n",
    "        return self.n_splits"
   ]
  },
  {
   "cell_type": "code",
   "execution_count": 212,
   "metadata": {},
   "outputs": [],
   "source": [
    "def process_data(df, test=False):\n",
    "    \"\"\"This will return X and y based on the dataset that was passed\"\"\"\n",
    "    #df.insert(df.shape[1], 'date', pd.to_datetime(df['ID'].apply(lambda x: x.split('_')[1])))\n",
    "    df.insert(df.shape[1], 'month', df.date.dt.month)\n",
    "    df.insert(df.shape[1], 'year', df.date.dt.year)\n",
    "    df.insert(df.shape[1], 'cold', np.zeros(df.shape[0]))\n",
    "    df.insert(df.shape[1], 'warm', np.zeros(df.shape[0]))\n",
    "    df.insert(df.shape[1], 'warmer', np.zeros(df.shape[0]))\n",
    "    df.insert(df.shape[1], 'hot', np.zeros(df.shape[0]))\n",
    "#     df['date'] = pd.to_datetime(df['ID'].apply(lambda x: x.split('_')[1]))\n",
    "#     df['month'] = df.date.dt.month\n",
    "#     df['year'] = df.date.dt.year\n",
    "#     df['cold'] = np.zeros(df.shape[0])\n",
    "#     df['warm'] = np.zeros(df.shape[0])\n",
    "#     df['warmer'] = np.zeros(df.shape[0])\n",
    "#     df['hot'] = np.zeros(df.shape[0])\n",
    "    \n",
    "    df.loc[df.month.isin([1, 2, 3]), 'cold'] = 1\n",
    "    df.loc[df.month.isin([4, 5, 6, 11, 12]), 'warm'] = 1\n",
    "    df.loc[df.month.isin([7, 10]), 'warmer'] = 1\n",
    "    df.loc[df.month.isin([11, 12]), 'hot'] = 1\n",
    "    \n",
    "    df.insert(df.shape[1], 'exp_climate_pr', np.exp(df.climate_pr))\n",
    "    df.insert(df.shape[1], 'exp_precipitation', np.exp(df.precipitation))\n",
    "    df.insert(df.shape[1], 'norm_climate_aet', stats.norm.pdf(df.climate_aet))\n",
    "    df.insert(df.shape[1], 'norm_climate_def', stats.norm.pdf(df.climate_def))\n",
    "    df.insert(df.shape[1], 'norm_climate_pet', stats.norm.pdf(df.climate_pet))\n",
    "    \n",
    "    \n",
    "    \n",
    "    \n",
    "    # Cols\n",
    "    in_cols = ['climate_aet', 'climate_def',\n",
    "       'climate_pdsi', 'climate_pet', 'climate_pr', 'climate_ro',\n",
    "       'climate_soil', 'climate_srad', 'climate_tmmn',\n",
    "       'climate_tmmx', 'climate_vap', 'climate_vpd', 'climate_vs', 'elevation',\n",
    "       'landcover_0', 'landcover_1', 'landcover_2',\n",
    "       'landcover_4', 'landcover_5', 'landcover_6', 'landcover_7',\n",
    "       'landcover_8', 'precipitation', 'cold', 'warm', 'warmer', 'hot', 'exp_climate_pr',\n",
    "              'exp_precipitation']\n",
    "               #, 'norm_climate_aet', 'norm_climate_def', 'norm_climate_pet']\n",
    "    target_col = 'burn_area'\n",
    "    \n",
    "    if test:\n",
    "        return df[in_cols]\n",
    "    else:\n",
    "        return df[in_cols], df[target_col]"
   ]
  },
  {
   "cell_type": "code",
   "execution_count": 213,
   "metadata": {
    "colab": {
     "base_uri": "https://localhost:8080/",
     "height": 309
    },
    "colab_type": "code",
    "id": "uaQM7lJHxRoe",
    "outputId": "c6ba3161-7687-4e04-9d5b-3107464bb9a9"
   },
   "outputs": [
    {
     "data": {
      "text/html": [
       "<div>\n",
       "<style scoped>\n",
       "    .dataframe tbody tr th:only-of-type {\n",
       "        vertical-align: middle;\n",
       "    }\n",
       "\n",
       "    .dataframe tbody tr th {\n",
       "        vertical-align: top;\n",
       "    }\n",
       "\n",
       "    .dataframe thead th {\n",
       "        text-align: right;\n",
       "    }\n",
       "</style>\n",
       "<table border=\"1\" class=\"dataframe\">\n",
       "  <thead>\n",
       "    <tr style=\"text-align: right;\">\n",
       "      <th></th>\n",
       "      <th>ID</th>\n",
       "      <th>lat</th>\n",
       "      <th>lon</th>\n",
       "      <th>burn_area</th>\n",
       "      <th>climate_aet</th>\n",
       "      <th>climate_def</th>\n",
       "      <th>climate_pdsi</th>\n",
       "      <th>climate_pet</th>\n",
       "      <th>climate_pr</th>\n",
       "      <th>climate_ro</th>\n",
       "      <th>...</th>\n",
       "      <th>landcover_0</th>\n",
       "      <th>landcover_1</th>\n",
       "      <th>landcover_2</th>\n",
       "      <th>landcover_3</th>\n",
       "      <th>landcover_4</th>\n",
       "      <th>landcover_5</th>\n",
       "      <th>landcover_6</th>\n",
       "      <th>landcover_7</th>\n",
       "      <th>landcover_8</th>\n",
       "      <th>precipitation</th>\n",
       "    </tr>\n",
       "  </thead>\n",
       "  <tbody>\n",
       "    <tr>\n",
       "      <th>0</th>\n",
       "      <td>0_2001-01-01</td>\n",
       "      <td>-15.858835</td>\n",
       "      <td>29.237029</td>\n",
       "      <td>0.0</td>\n",
       "      <td>1195</td>\n",
       "      <td>0</td>\n",
       "      <td>263</td>\n",
       "      <td>1195</td>\n",
       "      <td>206</td>\n",
       "      <td>10</td>\n",
       "      <td>...</td>\n",
       "      <td>0.0</td>\n",
       "      <td>0.0</td>\n",
       "      <td>0.018654</td>\n",
       "      <td>0.0</td>\n",
       "      <td>0.714446</td>\n",
       "      <td>0.012174</td>\n",
       "      <td>0.244890</td>\n",
       "      <td>0.009836</td>\n",
       "      <td>0.0</td>\n",
       "      <td>0.256932</td>\n",
       "    </tr>\n",
       "    <tr>\n",
       "      <th>1</th>\n",
       "      <td>1_2001-01-01</td>\n",
       "      <td>-15.858835</td>\n",
       "      <td>29.487029</td>\n",
       "      <td>0.0</td>\n",
       "      <td>1196</td>\n",
       "      <td>0</td>\n",
       "      <td>232</td>\n",
       "      <td>1196</td>\n",
       "      <td>201</td>\n",
       "      <td>10</td>\n",
       "      <td>...</td>\n",
       "      <td>0.0</td>\n",
       "      <td>0.0</td>\n",
       "      <td>0.000000</td>\n",
       "      <td>0.0</td>\n",
       "      <td>0.654783</td>\n",
       "      <td>0.000095</td>\n",
       "      <td>0.345121</td>\n",
       "      <td>0.000000</td>\n",
       "      <td>0.0</td>\n",
       "      <td>0.273093</td>\n",
       "    </tr>\n",
       "    <tr>\n",
       "      <th>2</th>\n",
       "      <td>2_2001-01-01</td>\n",
       "      <td>-15.858835</td>\n",
       "      <td>29.737029</td>\n",
       "      <td>0.0</td>\n",
       "      <td>1190</td>\n",
       "      <td>0</td>\n",
       "      <td>314</td>\n",
       "      <td>1190</td>\n",
       "      <td>192</td>\n",
       "      <td>10</td>\n",
       "      <td>...</td>\n",
       "      <td>0.0</td>\n",
       "      <td>0.0</td>\n",
       "      <td>0.000000</td>\n",
       "      <td>0.0</td>\n",
       "      <td>0.516421</td>\n",
       "      <td>0.000000</td>\n",
       "      <td>0.483579</td>\n",
       "      <td>0.000000</td>\n",
       "      <td>0.0</td>\n",
       "      <td>0.285109</td>\n",
       "    </tr>\n",
       "    <tr>\n",
       "      <th>3</th>\n",
       "      <td>3_2001-01-01</td>\n",
       "      <td>-15.858835</td>\n",
       "      <td>29.987029</td>\n",
       "      <td>0.0</td>\n",
       "      <td>1144</td>\n",
       "      <td>0</td>\n",
       "      <td>321</td>\n",
       "      <td>1144</td>\n",
       "      <td>186</td>\n",
       "      <td>66</td>\n",
       "      <td>...</td>\n",
       "      <td>0.0</td>\n",
       "      <td>0.0</td>\n",
       "      <td>0.000000</td>\n",
       "      <td>0.0</td>\n",
       "      <td>0.299000</td>\n",
       "      <td>0.163902</td>\n",
       "      <td>0.537098</td>\n",
       "      <td>0.000000</td>\n",
       "      <td>0.0</td>\n",
       "      <td>0.298418</td>\n",
       "    </tr>\n",
       "    <tr>\n",
       "      <th>4</th>\n",
       "      <td>4_2001-01-01</td>\n",
       "      <td>-15.858835</td>\n",
       "      <td>30.237029</td>\n",
       "      <td>0.0</td>\n",
       "      <td>1187</td>\n",
       "      <td>0</td>\n",
       "      <td>413</td>\n",
       "      <td>1187</td>\n",
       "      <td>186</td>\n",
       "      <td>9</td>\n",
       "      <td>...</td>\n",
       "      <td>0.0</td>\n",
       "      <td>0.0</td>\n",
       "      <td>0.000000</td>\n",
       "      <td>0.0</td>\n",
       "      <td>0.277392</td>\n",
       "      <td>0.067742</td>\n",
       "      <td>0.654866</td>\n",
       "      <td>0.000000</td>\n",
       "      <td>0.0</td>\n",
       "      <td>0.315621</td>\n",
       "    </tr>\n",
       "  </tbody>\n",
       "</table>\n",
       "<p>5 rows × 29 columns</p>\n",
       "</div>"
      ],
      "text/plain": [
       "             ID        lat        lon  burn_area  climate_aet  climate_def  \\\n",
       "0  0_2001-01-01 -15.858835  29.237029        0.0         1195            0   \n",
       "1  1_2001-01-01 -15.858835  29.487029        0.0         1196            0   \n",
       "2  2_2001-01-01 -15.858835  29.737029        0.0         1190            0   \n",
       "3  3_2001-01-01 -15.858835  29.987029        0.0         1144            0   \n",
       "4  4_2001-01-01 -15.858835  30.237029        0.0         1187            0   \n",
       "\n",
       "   climate_pdsi  climate_pet  climate_pr  climate_ro  ...  landcover_0  \\\n",
       "0           263         1195         206          10  ...          0.0   \n",
       "1           232         1196         201          10  ...          0.0   \n",
       "2           314         1190         192          10  ...          0.0   \n",
       "3           321         1144         186          66  ...          0.0   \n",
       "4           413         1187         186           9  ...          0.0   \n",
       "\n",
       "   landcover_1  landcover_2  landcover_3  landcover_4  landcover_5  \\\n",
       "0          0.0     0.018654          0.0     0.714446     0.012174   \n",
       "1          0.0     0.000000          0.0     0.654783     0.000095   \n",
       "2          0.0     0.000000          0.0     0.516421     0.000000   \n",
       "3          0.0     0.000000          0.0     0.299000     0.163902   \n",
       "4          0.0     0.000000          0.0     0.277392     0.067742   \n",
       "\n",
       "   landcover_6  landcover_7  landcover_8  precipitation  \n",
       "0     0.244890     0.009836          0.0       0.256932  \n",
       "1     0.345121     0.000000          0.0       0.273093  \n",
       "2     0.483579     0.000000          0.0       0.285109  \n",
       "3     0.537098     0.000000          0.0       0.298418  \n",
       "4     0.654866     0.000000          0.0       0.315621  \n",
       "\n",
       "[5 rows x 29 columns]"
      ]
     },
     "execution_count": 213,
     "metadata": {},
     "output_type": "execute_result"
    }
   ],
   "source": [
    "# The training data.\n",
    "train = pd.read_csv('data/Train.csv')\n",
    "train.head()"
   ]
  },
  {
   "cell_type": "code",
   "execution_count": 214,
   "metadata": {
    "colab": {
     "base_uri": "https://localhost:8080/",
     "height": 117
    },
    "colab_type": "code",
    "id": "RHksNuWBxeDn",
    "outputId": "b47d68c1-c956-42e0-9537-9a6441827d0d"
   },
   "outputs": [
    {
     "data": {
      "text/html": [
       "<div>\n",
       "<style scoped>\n",
       "    .dataframe tbody tr th:only-of-type {\n",
       "        vertical-align: middle;\n",
       "    }\n",
       "\n",
       "    .dataframe tbody tr th {\n",
       "        vertical-align: top;\n",
       "    }\n",
       "\n",
       "    .dataframe thead th {\n",
       "        text-align: right;\n",
       "    }\n",
       "</style>\n",
       "<table border=\"1\" class=\"dataframe\">\n",
       "  <thead>\n",
       "    <tr style=\"text-align: right;\">\n",
       "      <th></th>\n",
       "      <th>ID</th>\n",
       "      <th>lat</th>\n",
       "      <th>lon</th>\n",
       "      <th>climate_aet</th>\n",
       "      <th>climate_def</th>\n",
       "      <th>climate_pdsi</th>\n",
       "      <th>climate_pet</th>\n",
       "      <th>climate_pr</th>\n",
       "      <th>climate_ro</th>\n",
       "      <th>climate_soil</th>\n",
       "      <th>...</th>\n",
       "      <th>landcover_0</th>\n",
       "      <th>landcover_1</th>\n",
       "      <th>landcover_2</th>\n",
       "      <th>landcover_3</th>\n",
       "      <th>landcover_4</th>\n",
       "      <th>landcover_5</th>\n",
       "      <th>landcover_6</th>\n",
       "      <th>landcover_7</th>\n",
       "      <th>landcover_8</th>\n",
       "      <th>precipitation</th>\n",
       "    </tr>\n",
       "  </thead>\n",
       "  <tbody>\n",
       "    <tr>\n",
       "      <th>0</th>\n",
       "      <td>0_2014-01-01</td>\n",
       "      <td>-15.858835</td>\n",
       "      <td>29.237029</td>\n",
       "      <td>1146</td>\n",
       "      <td>74</td>\n",
       "      <td>-451</td>\n",
       "      <td>1220</td>\n",
       "      <td>120</td>\n",
       "      <td>6</td>\n",
       "      <td>212</td>\n",
       "      <td>...</td>\n",
       "      <td>0.0</td>\n",
       "      <td>0.000615</td>\n",
       "      <td>0.015418</td>\n",
       "      <td>0.0</td>\n",
       "      <td>0.416704</td>\n",
       "      <td>0.023724</td>\n",
       "      <td>0.530016</td>\n",
       "      <td>0.013524</td>\n",
       "      <td>0.0</td>\n",
       "      <td>0.404243</td>\n",
       "    </tr>\n",
       "    <tr>\n",
       "      <th>1</th>\n",
       "      <td>1_2014-01-01</td>\n",
       "      <td>-15.858835</td>\n",
       "      <td>29.487029</td>\n",
       "      <td>1118</td>\n",
       "      <td>98</td>\n",
       "      <td>-405</td>\n",
       "      <td>1216</td>\n",
       "      <td>117</td>\n",
       "      <td>6</td>\n",
       "      <td>330</td>\n",
       "      <td>...</td>\n",
       "      <td>0.0</td>\n",
       "      <td>0.000000</td>\n",
       "      <td>0.000000</td>\n",
       "      <td>0.0</td>\n",
       "      <td>0.406436</td>\n",
       "      <td>0.000446</td>\n",
       "      <td>0.593118</td>\n",
       "      <td>0.000000</td>\n",
       "      <td>0.0</td>\n",
       "      <td>0.421489</td>\n",
       "    </tr>\n",
       "    <tr>\n",
       "      <th>2</th>\n",
       "      <td>2_2014-01-01</td>\n",
       "      <td>-15.858835</td>\n",
       "      <td>29.737029</td>\n",
       "      <td>1067</td>\n",
       "      <td>137</td>\n",
       "      <td>-468</td>\n",
       "      <td>1204</td>\n",
       "      <td>111</td>\n",
       "      <td>6</td>\n",
       "      <td>194</td>\n",
       "      <td>...</td>\n",
       "      <td>0.0</td>\n",
       "      <td>0.000000</td>\n",
       "      <td>0.000000</td>\n",
       "      <td>0.0</td>\n",
       "      <td>0.254791</td>\n",
       "      <td>0.000000</td>\n",
       "      <td>0.745209</td>\n",
       "      <td>0.000000</td>\n",
       "      <td>0.0</td>\n",
       "      <td>0.419122</td>\n",
       "    </tr>\n",
       "    <tr>\n",
       "      <th>3</th>\n",
       "      <td>3_2014-01-01</td>\n",
       "      <td>-15.858835</td>\n",
       "      <td>29.987029</td>\n",
       "      <td>969</td>\n",
       "      <td>187</td>\n",
       "      <td>-533</td>\n",
       "      <td>1156</td>\n",
       "      <td>101</td>\n",
       "      <td>5</td>\n",
       "      <td>78</td>\n",
       "      <td>...</td>\n",
       "      <td>0.0</td>\n",
       "      <td>0.000000</td>\n",
       "      <td>0.000000</td>\n",
       "      <td>0.0</td>\n",
       "      <td>0.219340</td>\n",
       "      <td>0.182153</td>\n",
       "      <td>0.598507</td>\n",
       "      <td>0.000000</td>\n",
       "      <td>0.0</td>\n",
       "      <td>0.404596</td>\n",
       "    </tr>\n",
       "    <tr>\n",
       "      <th>4</th>\n",
       "      <td>4_2014-01-01</td>\n",
       "      <td>-15.858835</td>\n",
       "      <td>30.237029</td>\n",
       "      <td>927</td>\n",
       "      <td>270</td>\n",
       "      <td>-505</td>\n",
       "      <td>1197</td>\n",
       "      <td>96</td>\n",
       "      <td>5</td>\n",
       "      <td>139</td>\n",
       "      <td>...</td>\n",
       "      <td>0.0</td>\n",
       "      <td>0.000000</td>\n",
       "      <td>0.000000</td>\n",
       "      <td>0.0</td>\n",
       "      <td>0.220239</td>\n",
       "      <td>0.097748</td>\n",
       "      <td>0.682013</td>\n",
       "      <td>0.000000</td>\n",
       "      <td>0.0</td>\n",
       "      <td>0.371100</td>\n",
       "    </tr>\n",
       "  </tbody>\n",
       "</table>\n",
       "<p>5 rows × 28 columns</p>\n",
       "</div>"
      ],
      "text/plain": [
       "             ID        lat        lon  climate_aet  climate_def  climate_pdsi  \\\n",
       "0  0_2014-01-01 -15.858835  29.237029         1146           74          -451   \n",
       "1  1_2014-01-01 -15.858835  29.487029         1118           98          -405   \n",
       "2  2_2014-01-01 -15.858835  29.737029         1067          137          -468   \n",
       "3  3_2014-01-01 -15.858835  29.987029          969          187          -533   \n",
       "4  4_2014-01-01 -15.858835  30.237029          927          270          -505   \n",
       "\n",
       "   climate_pet  climate_pr  climate_ro  climate_soil  ...  landcover_0  \\\n",
       "0         1220         120           6           212  ...          0.0   \n",
       "1         1216         117           6           330  ...          0.0   \n",
       "2         1204         111           6           194  ...          0.0   \n",
       "3         1156         101           5            78  ...          0.0   \n",
       "4         1197          96           5           139  ...          0.0   \n",
       "\n",
       "   landcover_1  landcover_2  landcover_3  landcover_4  landcover_5  \\\n",
       "0     0.000615     0.015418          0.0     0.416704     0.023724   \n",
       "1     0.000000     0.000000          0.0     0.406436     0.000446   \n",
       "2     0.000000     0.000000          0.0     0.254791     0.000000   \n",
       "3     0.000000     0.000000          0.0     0.219340     0.182153   \n",
       "4     0.000000     0.000000          0.0     0.220239     0.097748   \n",
       "\n",
       "   landcover_6  landcover_7  landcover_8  precipitation  \n",
       "0     0.530016     0.013524          0.0       0.404243  \n",
       "1     0.593118     0.000000          0.0       0.421489  \n",
       "2     0.745209     0.000000          0.0       0.419122  \n",
       "3     0.598507     0.000000          0.0       0.404596  \n",
       "4     0.682013     0.000000          0.0       0.371100  \n",
       "\n",
       "[5 rows x 28 columns]"
      ]
     },
     "execution_count": 214,
     "metadata": {},
     "output_type": "execute_result"
    }
   ],
   "source": [
    "# The test set - notice there is no 'burn_area' column.\n",
    "test = pd.read_csv('data/Test.csv')\n",
    "test.head()"
   ]
  },
  {
   "cell_type": "markdown",
   "metadata": {
    "colab_type": "text",
    "id": "Tnl3iVg5xqfA"
   },
   "source": [
    "# EDA + Feature Engineering"
   ]
  },
  {
   "cell_type": "code",
   "execution_count": 121,
   "metadata": {
    "colab": {
     "base_uri": "https://localhost:8080/",
     "height": 453
    },
    "colab_type": "code",
    "id": "DG4siNyqxrsi",
    "outputId": "09144d2c-09c9-4a17-ff4d-34ac32dae4b4"
   },
   "outputs": [
    {
     "data": {
      "text/plain": [
       "<matplotlib.axes._subplots.AxesSubplot at 0x7f0dd9995160>"
      ]
     },
     "execution_count": 121,
     "metadata": {},
     "output_type": "execute_result"
    },
    {
     "data": {
      "image/png": "[encoded data removed]",
      "text/plain": [
       "<Figure size 1296x432 with 1 Axes>"
      ]
     },
     "metadata": {
      "needs_background": "light"
     },
     "output_type": "display_data"
    }
   ],
   "source": [
    "# Look at correlation with target\n",
    "train.corr()['burn_area'].sort_values().plot(kind='bar', figsize=(18, 6))"
   ]
  },
  {
   "cell_type": "code",
   "execution_count": null,
   "metadata": {
    "colab": {
     "base_uri": "https://localhost:8080/",
     "height": 282
    },
    "colab_type": "code",
    "id": "DLVC6pU91PPE",
    "outputId": "98805359-1af7-407a-dfb2-c9bf6facdbb6"
   },
   "outputs": [],
   "source": [
    "# Look at some scatter plots (only plotting for a subset of data to keep things fast)\n",
    "sample = train.sample(10000)\n",
    "in_cols = ['climate_aet', 'climate_def',\n",
    "       'climate_pdsi', 'climate_pet', 'climate_pr', 'climate_ro',\n",
    "       'climate_soil', 'climate_srad', 'climate_tmmn',\n",
    "       'climate_tmmx', 'climate_vap', 'climate_vpd', 'climate_vs', 'elevation',\n",
    "       'landcover_0', 'landcover_1', 'landcover_2',\n",
    "       'landcover_4', 'landcover_5', 'landcover_6', 'landcover_7',\n",
    "       'landcover_8', 'precipitation']\n",
    "fig, axs = plt.subplots(len(in_cols), 1, figsize=(8,100))\n",
    "for col, ax in zip(in_cols, axs):\n",
    "    #print(col, ax)\n",
    "    ax.scatter(sample[col], sample['burn_area'])\n",
    "    ax.set_title(col)\n",
    "#for column in sample.columns:\n",
    "#plt.scatter(sample['lon'], sample['burn_area'], alpha=0.3)\n",
    "#sns.pairplot(sample, hue='burn_area', height=2.5);\n",
    "#plt.show()"
   ]
  },
  {
   "cell_type": "code",
   "execution_count": 122,
   "metadata": {},
   "outputs": [
    {
     "data": {
      "image/png": "[encoded data removed]",
      "text/plain": [
       "<Figure size 432x288 with 1 Axes>"
      ]
     },
     "metadata": {
      "needs_background": "light"
     },
     "output_type": "display_data"
    }
   ],
   "source": [
    "def utils_recognize_type(dtf, col, max_cat=20):\n",
    "    if (dtf[col].dtype == \"O\"):\n",
    "        return \"cat\"\n",
    "    else:\n",
    "        return \"num\"\n",
    "\n",
    "dtf = train.copy()\n",
    "dic_cols = {col:utils_recognize_type(dtf, col, max_cat=20) for col in dtf.columns}\n",
    "heatmap = dtf.isnull()\n",
    "for k,v in dic_cols.items():\n",
    "    if v == \"num\":\n",
    "        heatmap[k] = heatmap[k].apply(lambda x: 0.5 if x is False else 1)\n",
    "    else:\n",
    "        heatmap[k] = heatmap[k].apply(lambda x: 0 if x is False else 1)\n",
    "sns.heatmap(heatmap, cbar=False).set_title('Dataset Overview')\n",
    "plt.show()"
   ]
  },
  {
   "cell_type": "markdown",
   "metadata": {
    "colab_type": "text",
    "id": "RDCOsUvCz3dA"
   },
   "source": [
    "# Data Split for Validation\n",
    "\n",
    "We don't want to just split randomly - this would give us artificially high scores. Instead, let's use the last 3 years of the dataset for validation to more closely match the test configuration."
   ]
  },
  {
   "cell_type": "code",
   "execution_count": 215,
   "metadata": {
    "colab": {
     "base_uri": "https://localhost:8080/",
     "height": 34
    },
    "colab_type": "code",
    "id": "SCk5CZKI0Kt4",
    "outputId": "3a7d74f7-33b1-4656-c0a1-99de141791f8"
   },
   "outputs": [
    {
     "name": "stdout",
     "output_type": "stream",
     "text": [
      "(63960, 30) (18655, 30)\n"
     ]
    }
   ],
   "source": [
    "train['date'] = pd.to_datetime(train['ID'].apply(lambda x: x.split('_')[1]))\n",
    "train_all = train.copy() #.fillna()\n",
    "_train = train_all.loc[train_all.date < '2011-01-01']\n",
    "_valid = train_all.loc[train_all.date > '2011-01-01']\n",
    "print(_train.shape, _valid.shape)"
   ]
  },
  {
   "cell_type": "code",
   "execution_count": 190,
   "metadata": {},
   "outputs": [
    {
     "name": "stderr",
     "output_type": "stream",
     "text": [
      "/usr/lib/python3/dist-packages/numpy/lib/nanfunctions.py:1545: RuntimeWarning: overflow encountered in multiply\n",
      "  sqr = np.multiply(arr, arr, out=arr)\n"
     ]
    },
    {
     "ename": "ValueError",
     "evalue": "X should be a square kernel matrix",
     "output_type": "error",
     "traceback": [
      "\u001b[0;31m---------------------------------------------------------------------------\u001b[0m",
      "\u001b[0;31mValueError\u001b[0m                                Traceback (most recent call last)",
      "\u001b[0;32m<ipython-input-190-a72c35b8a023>\u001b[0m in \u001b[0;36m<module>\u001b[0;34m\u001b[0m\n\u001b[1;32m     10\u001b[0m \u001b[0msearch\u001b[0m \u001b[0;34m=\u001b[0m \u001b[0mGridSearchCV\u001b[0m\u001b[0;34m(\u001b[0m\u001b[0msvr\u001b[0m\u001b[0;34m,\u001b[0m \u001b[0mparam_grid\u001b[0m\u001b[0;34m,\u001b[0m \u001b[0mcv\u001b[0m\u001b[0;34m=\u001b[0m\u001b[0;34m[\u001b[0m\u001b[0;34m(\u001b[0m\u001b[0m_train\u001b[0m\u001b[0;34m.\u001b[0m\u001b[0mindex\u001b[0m\u001b[0;34m.\u001b[0m\u001b[0mvalues\u001b[0m\u001b[0;34m,\u001b[0m \u001b[0m_valid\u001b[0m\u001b[0;34m.\u001b[0m\u001b[0mindex\u001b[0m\u001b[0;34m.\u001b[0m\u001b[0mvalues\u001b[0m\u001b[0;34m)\u001b[0m\u001b[0;34m]\u001b[0m\u001b[0;34m)\u001b[0m\u001b[0;34m\u001b[0m\u001b[0;34m\u001b[0m\u001b[0m\n\u001b[1;32m     11\u001b[0m \u001b[0mXX\u001b[0m\u001b[0;34m,\u001b[0m \u001b[0mYY\u001b[0m \u001b[0;34m=\u001b[0m \u001b[0mprocess_data\u001b[0m\u001b[0;34m(\u001b[0m\u001b[0mtrain_all\u001b[0m\u001b[0;34m)\u001b[0m\u001b[0;34m\u001b[0m\u001b[0;34m\u001b[0m\u001b[0m\n\u001b[0;32m---> 12\u001b[0;31m \u001b[0msearch\u001b[0m\u001b[0;34m.\u001b[0m\u001b[0mfit\u001b[0m\u001b[0;34m(\u001b[0m\u001b[0msc\u001b[0m\u001b[0;34m.\u001b[0m\u001b[0mfit_transform\u001b[0m\u001b[0;34m(\u001b[0m\u001b[0mXX\u001b[0m\u001b[0;34m)\u001b[0m\u001b[0;34m,\u001b[0m \u001b[0mYY\u001b[0m\u001b[0;34m)\u001b[0m\u001b[0;34m\u001b[0m\u001b[0;34m\u001b[0m\u001b[0m\n\u001b[0m",
      "\u001b[0;32m~/.local/lib/python3.8/site-packages/sklearn/utils/validation.py\u001b[0m in \u001b[0;36minner_f\u001b[0;34m(*args, **kwargs)\u001b[0m\n\u001b[1;32m     70\u001b[0m                           FutureWarning)\n\u001b[1;32m     71\u001b[0m         \u001b[0mkwargs\u001b[0m\u001b[0;34m.\u001b[0m\u001b[0mupdate\u001b[0m\u001b[0;34m(\u001b[0m\u001b[0;34m{\u001b[0m\u001b[0mk\u001b[0m\u001b[0;34m:\u001b[0m \u001b[0marg\u001b[0m \u001b[0;32mfor\u001b[0m \u001b[0mk\u001b[0m\u001b[0;34m,\u001b[0m \u001b[0marg\u001b[0m \u001b[0;32min\u001b[0m \u001b[0mzip\u001b[0m\u001b[0;34m(\u001b[0m\u001b[0msig\u001b[0m\u001b[0;34m.\u001b[0m\u001b[0mparameters\u001b[0m\u001b[0;34m,\u001b[0m \u001b[0margs\u001b[0m\u001b[0;34m)\u001b[0m\u001b[0;34m}\u001b[0m\u001b[0;34m)\u001b[0m\u001b[0;34m\u001b[0m\u001b[0;34m\u001b[0m\u001b[0m\n\u001b[0;32m---> 72\u001b[0;31m         \u001b[0;32mreturn\u001b[0m \u001b[0mf\u001b[0m\u001b[0;34m(\u001b[0m\u001b[0;34m**\u001b[0m\u001b[0mkwargs\u001b[0m\u001b[0;34m)\u001b[0m\u001b[0;34m\u001b[0m\u001b[0;34m\u001b[0m\u001b[0m\n\u001b[0m\u001b[1;32m     73\u001b[0m     \u001b[0;32mreturn\u001b[0m \u001b[0minner_f\u001b[0m\u001b[0;34m\u001b[0m\u001b[0;34m\u001b[0m\u001b[0m\n\u001b[1;32m     74\u001b[0m \u001b[0;34m\u001b[0m\u001b[0m\n",
      "\u001b[0;32m~/.local/lib/python3.8/site-packages/sklearn/model_selection/_search.py\u001b[0m in \u001b[0;36mfit\u001b[0;34m(self, X, y, groups, **fit_params)\u001b[0m\n\u001b[1;32m    734\u001b[0m                 \u001b[0;32mreturn\u001b[0m \u001b[0mresults\u001b[0m\u001b[0;34m\u001b[0m\u001b[0;34m\u001b[0m\u001b[0m\n\u001b[1;32m    735\u001b[0m \u001b[0;34m\u001b[0m\u001b[0m\n\u001b[0;32m--> 736\u001b[0;31m             \u001b[0mself\u001b[0m\u001b[0;34m.\u001b[0m\u001b[0m_run_search\u001b[0m\u001b[0;34m(\u001b[0m\u001b[0mevaluate_candidates\u001b[0m\u001b[0;34m)\u001b[0m\u001b[0;34m\u001b[0m\u001b[0;34m\u001b[0m\u001b[0m\n\u001b[0m\u001b[1;32m    737\u001b[0m \u001b[0;34m\u001b[0m\u001b[0m\n\u001b[1;32m    738\u001b[0m         \u001b[0;31m# For multi-metric evaluation, store the best_index_, best_params_ and\u001b[0m\u001b[0;34m\u001b[0m\u001b[0;34m\u001b[0m\u001b[0;34m\u001b[0m\u001b[0m\n",
      "\u001b[0;32m~/.local/lib/python3.8/site-packages/sklearn/model_selection/_search.py\u001b[0m in \u001b[0;36m_run_search\u001b[0;34m(self, evaluate_candidates)\u001b[0m\n\u001b[1;32m   1186\u001b[0m     \u001b[0;32mdef\u001b[0m \u001b[0m_run_search\u001b[0m\u001b[0;34m(\u001b[0m\u001b[0mself\u001b[0m\u001b[0;34m,\u001b[0m \u001b[0mevaluate_candidates\u001b[0m\u001b[0;34m)\u001b[0m\u001b[0;34m:\u001b[0m\u001b[0;34m\u001b[0m\u001b[0;34m\u001b[0m\u001b[0m\n\u001b[1;32m   1187\u001b[0m         \u001b[0;34m\"\"\"Search all candidates in param_grid\"\"\"\u001b[0m\u001b[0;34m\u001b[0m\u001b[0;34m\u001b[0m\u001b[0m\n\u001b[0;32m-> 1188\u001b[0;31m         \u001b[0mevaluate_candidates\u001b[0m\u001b[0;34m(\u001b[0m\u001b[0mParameterGrid\u001b[0m\u001b[0;34m(\u001b[0m\u001b[0mself\u001b[0m\u001b[0;34m.\u001b[0m\u001b[0mparam_grid\u001b[0m\u001b[0;34m)\u001b[0m\u001b[0;34m)\u001b[0m\u001b[0;34m\u001b[0m\u001b[0;34m\u001b[0m\u001b[0m\n\u001b[0m\u001b[1;32m   1189\u001b[0m \u001b[0;34m\u001b[0m\u001b[0m\n\u001b[1;32m   1190\u001b[0m \u001b[0;34m\u001b[0m\u001b[0m\n",
      "\u001b[0;32m~/.local/lib/python3.8/site-packages/sklearn/model_selection/_search.py\u001b[0m in \u001b[0;36mevaluate_candidates\u001b[0;34m(candidate_params)\u001b[0m\n\u001b[1;32m    706\u001b[0m                               n_splits, n_candidates, n_candidates * n_splits))\n\u001b[1;32m    707\u001b[0m \u001b[0;34m\u001b[0m\u001b[0m\n\u001b[0;32m--> 708\u001b[0;31m                 out = parallel(delayed(_fit_and_score)(clone(base_estimator),\n\u001b[0m\u001b[1;32m    709\u001b[0m                                                        \u001b[0mX\u001b[0m\u001b[0;34m,\u001b[0m \u001b[0my\u001b[0m\u001b[0;34m,\u001b[0m\u001b[0;34m\u001b[0m\u001b[0;34m\u001b[0m\u001b[0m\n\u001b[1;32m    710\u001b[0m                                                        \u001b[0mtrain\u001b[0m\u001b[0;34m=\u001b[0m\u001b[0mtrain\u001b[0m\u001b[0;34m,\u001b[0m \u001b[0mtest\u001b[0m\u001b[0;34m=\u001b[0m\u001b[0mtest\u001b[0m\u001b[0;34m,\u001b[0m\u001b[0;34m\u001b[0m\u001b[0;34m\u001b[0m\u001b[0m\n",
      "\u001b[0;32m~/.local/lib/python3.8/site-packages/joblib/parallel.py\u001b[0m in \u001b[0;36m__call__\u001b[0;34m(self, iterable)\u001b[0m\n\u001b[1;32m   1030\u001b[0m                 \u001b[0mself\u001b[0m\u001b[0;34m.\u001b[0m\u001b[0m_iterating\u001b[0m \u001b[0;34m=\u001b[0m \u001b[0mself\u001b[0m\u001b[0;34m.\u001b[0m\u001b[0m_original_iterator\u001b[0m \u001b[0;32mis\u001b[0m \u001b[0;32mnot\u001b[0m \u001b[0;32mNone\u001b[0m\u001b[0;34m\u001b[0m\u001b[0;34m\u001b[0m\u001b[0m\n\u001b[1;32m   1031\u001b[0m \u001b[0;34m\u001b[0m\u001b[0m\n\u001b[0;32m-> 1032\u001b[0;31m             \u001b[0;32mwhile\u001b[0m \u001b[0mself\u001b[0m\u001b[0;34m.\u001b[0m\u001b[0mdispatch_one_batch\u001b[0m\u001b[0;34m(\u001b[0m\u001b[0miterator\u001b[0m\u001b[0;34m)\u001b[0m\u001b[0;34m:\u001b[0m\u001b[0;34m\u001b[0m\u001b[0;34m\u001b[0m\u001b[0m\n\u001b[0m\u001b[1;32m   1033\u001b[0m                 \u001b[0;32mpass\u001b[0m\u001b[0;34m\u001b[0m\u001b[0;34m\u001b[0m\u001b[0m\n\u001b[1;32m   1034\u001b[0m \u001b[0;34m\u001b[0m\u001b[0m\n",
      "\u001b[0;32m~/.local/lib/python3.8/site-packages/joblib/parallel.py\u001b[0m in \u001b[0;36mdispatch_one_batch\u001b[0;34m(self, iterator)\u001b[0m\n\u001b[1;32m    845\u001b[0m                 \u001b[0;32mreturn\u001b[0m \u001b[0;32mFalse\u001b[0m\u001b[0;34m\u001b[0m\u001b[0;34m\u001b[0m\u001b[0m\n\u001b[1;32m    846\u001b[0m             \u001b[0;32melse\u001b[0m\u001b[0;34m:\u001b[0m\u001b[0;34m\u001b[0m\u001b[0;34m\u001b[0m\u001b[0m\n\u001b[0;32m--> 847\u001b[0;31m                 \u001b[0mself\u001b[0m\u001b[0;34m.\u001b[0m\u001b[0m_dispatch\u001b[0m\u001b[0;34m(\u001b[0m\u001b[0mtasks\u001b[0m\u001b[0;34m)\u001b[0m\u001b[0;34m\u001b[0m\u001b[0;34m\u001b[0m\u001b[0m\n\u001b[0m\u001b[1;32m    848\u001b[0m                 \u001b[0;32mreturn\u001b[0m \u001b[0;32mTrue\u001b[0m\u001b[0;34m\u001b[0m\u001b[0;34m\u001b[0m\u001b[0m\n\u001b[1;32m    849\u001b[0m \u001b[0;34m\u001b[0m\u001b[0m\n",
      "\u001b[0;32m~/.local/lib/python3.8/site-packages/joblib/parallel.py\u001b[0m in \u001b[0;36m_dispatch\u001b[0;34m(self, batch)\u001b[0m\n\u001b[1;32m    763\u001b[0m         \u001b[0;32mwith\u001b[0m \u001b[0mself\u001b[0m\u001b[0;34m.\u001b[0m\u001b[0m_lock\u001b[0m\u001b[0;34m:\u001b[0m\u001b[0;34m\u001b[0m\u001b[0;34m\u001b[0m\u001b[0m\n\u001b[1;32m    764\u001b[0m             \u001b[0mjob_idx\u001b[0m \u001b[0;34m=\u001b[0m \u001b[0mlen\u001b[0m\u001b[0;34m(\u001b[0m\u001b[0mself\u001b[0m\u001b[0;34m.\u001b[0m\u001b[0m_jobs\u001b[0m\u001b[0;34m)\u001b[0m\u001b[0;34m\u001b[0m\u001b[0;34m\u001b[0m\u001b[0m\n\u001b[0;32m--> 765\u001b[0;31m             \u001b[0mjob\u001b[0m \u001b[0;34m=\u001b[0m \u001b[0mself\u001b[0m\u001b[0;34m.\u001b[0m\u001b[0m_backend\u001b[0m\u001b[0;34m.\u001b[0m\u001b[0mapply_async\u001b[0m\u001b[0;34m(\u001b[0m\u001b[0mbatch\u001b[0m\u001b[0;34m,\u001b[0m \u001b[0mcallback\u001b[0m\u001b[0;34m=\u001b[0m\u001b[0mcb\u001b[0m\u001b[0;34m)\u001b[0m\u001b[0;34m\u001b[0m\u001b[0;34m\u001b[0m\u001b[0m\n\u001b[0m\u001b[1;32m    766\u001b[0m             \u001b[0;31m# A job can complete so quickly than its callback is\u001b[0m\u001b[0;34m\u001b[0m\u001b[0;34m\u001b[0m\u001b[0;34m\u001b[0m\u001b[0m\n\u001b[1;32m    767\u001b[0m             \u001b[0;31m# called before we get here, causing self._jobs to\u001b[0m\u001b[0;34m\u001b[0m\u001b[0;34m\u001b[0m\u001b[0;34m\u001b[0m\u001b[0m\n",
      "\u001b[0;32m~/.local/lib/python3.8/site-packages/joblib/_parallel_backends.py\u001b[0m in \u001b[0;36mapply_async\u001b[0;34m(self, func, callback)\u001b[0m\n\u001b[1;32m    206\u001b[0m     \u001b[0;32mdef\u001b[0m \u001b[0mapply_async\u001b[0m\u001b[0;34m(\u001b[0m\u001b[0mself\u001b[0m\u001b[0;34m,\u001b[0m \u001b[0mfunc\u001b[0m\u001b[0;34m,\u001b[0m \u001b[0mcallback\u001b[0m\u001b[0;34m=\u001b[0m\u001b[0;32mNone\u001b[0m\u001b[0;34m)\u001b[0m\u001b[0;34m:\u001b[0m\u001b[0;34m\u001b[0m\u001b[0;34m\u001b[0m\u001b[0m\n\u001b[1;32m    207\u001b[0m         \u001b[0;34m\"\"\"Schedule a func to be run\"\"\"\u001b[0m\u001b[0;34m\u001b[0m\u001b[0;34m\u001b[0m\u001b[0m\n\u001b[0;32m--> 208\u001b[0;31m         \u001b[0mresult\u001b[0m \u001b[0;34m=\u001b[0m \u001b[0mImmediateResult\u001b[0m\u001b[0;34m(\u001b[0m\u001b[0mfunc\u001b[0m\u001b[0;34m)\u001b[0m\u001b[0;34m\u001b[0m\u001b[0;34m\u001b[0m\u001b[0m\n\u001b[0m\u001b[1;32m    209\u001b[0m         \u001b[0;32mif\u001b[0m \u001b[0mcallback\u001b[0m\u001b[0;34m:\u001b[0m\u001b[0;34m\u001b[0m\u001b[0;34m\u001b[0m\u001b[0m\n\u001b[1;32m    210\u001b[0m             \u001b[0mcallback\u001b[0m\u001b[0;34m(\u001b[0m\u001b[0mresult\u001b[0m\u001b[0;34m)\u001b[0m\u001b[0;34m\u001b[0m\u001b[0;34m\u001b[0m\u001b[0m\n",
      "\u001b[0;32m~/.local/lib/python3.8/site-packages/joblib/_parallel_backends.py\u001b[0m in \u001b[0;36m__init__\u001b[0;34m(self, batch)\u001b[0m\n\u001b[1;32m    570\u001b[0m         \u001b[0;31m# Don't delay the application, to avoid keeping the input\u001b[0m\u001b[0;34m\u001b[0m\u001b[0;34m\u001b[0m\u001b[0;34m\u001b[0m\u001b[0m\n\u001b[1;32m    571\u001b[0m         \u001b[0;31m# arguments in memory\u001b[0m\u001b[0;34m\u001b[0m\u001b[0;34m\u001b[0m\u001b[0;34m\u001b[0m\u001b[0m\n\u001b[0;32m--> 572\u001b[0;31m         \u001b[0mself\u001b[0m\u001b[0;34m.\u001b[0m\u001b[0mresults\u001b[0m \u001b[0;34m=\u001b[0m \u001b[0mbatch\u001b[0m\u001b[0;34m(\u001b[0m\u001b[0;34m)\u001b[0m\u001b[0;34m\u001b[0m\u001b[0;34m\u001b[0m\u001b[0m\n\u001b[0m\u001b[1;32m    573\u001b[0m \u001b[0;34m\u001b[0m\u001b[0m\n\u001b[1;32m    574\u001b[0m     \u001b[0;32mdef\u001b[0m \u001b[0mget\u001b[0m\u001b[0;34m(\u001b[0m\u001b[0mself\u001b[0m\u001b[0;34m)\u001b[0m\u001b[0;34m:\u001b[0m\u001b[0;34m\u001b[0m\u001b[0;34m\u001b[0m\u001b[0m\n",
      "\u001b[0;32m~/.local/lib/python3.8/site-packages/joblib/parallel.py\u001b[0m in \u001b[0;36m__call__\u001b[0;34m(self)\u001b[0m\n\u001b[1;32m    250\u001b[0m         \u001b[0;31m# change the default number of processes to -1\u001b[0m\u001b[0;34m\u001b[0m\u001b[0;34m\u001b[0m\u001b[0;34m\u001b[0m\u001b[0m\n\u001b[1;32m    251\u001b[0m         \u001b[0;32mwith\u001b[0m \u001b[0mparallel_backend\u001b[0m\u001b[0;34m(\u001b[0m\u001b[0mself\u001b[0m\u001b[0;34m.\u001b[0m\u001b[0m_backend\u001b[0m\u001b[0;34m,\u001b[0m \u001b[0mn_jobs\u001b[0m\u001b[0;34m=\u001b[0m\u001b[0mself\u001b[0m\u001b[0;34m.\u001b[0m\u001b[0m_n_jobs\u001b[0m\u001b[0;34m)\u001b[0m\u001b[0;34m:\u001b[0m\u001b[0;34m\u001b[0m\u001b[0;34m\u001b[0m\u001b[0m\n\u001b[0;32m--> 252\u001b[0;31m             return [func(*args, **kwargs)\n\u001b[0m\u001b[1;32m    253\u001b[0m                     for func, args, kwargs in self.items]\n\u001b[1;32m    254\u001b[0m \u001b[0;34m\u001b[0m\u001b[0m\n",
      "\u001b[0;32m~/.local/lib/python3.8/site-packages/joblib/parallel.py\u001b[0m in \u001b[0;36m<listcomp>\u001b[0;34m(.0)\u001b[0m\n\u001b[1;32m    250\u001b[0m         \u001b[0;31m# change the default number of processes to -1\u001b[0m\u001b[0;34m\u001b[0m\u001b[0;34m\u001b[0m\u001b[0;34m\u001b[0m\u001b[0m\n\u001b[1;32m    251\u001b[0m         \u001b[0;32mwith\u001b[0m \u001b[0mparallel_backend\u001b[0m\u001b[0;34m(\u001b[0m\u001b[0mself\u001b[0m\u001b[0;34m.\u001b[0m\u001b[0m_backend\u001b[0m\u001b[0;34m,\u001b[0m \u001b[0mn_jobs\u001b[0m\u001b[0;34m=\u001b[0m\u001b[0mself\u001b[0m\u001b[0;34m.\u001b[0m\u001b[0m_n_jobs\u001b[0m\u001b[0;34m)\u001b[0m\u001b[0;34m:\u001b[0m\u001b[0;34m\u001b[0m\u001b[0;34m\u001b[0m\u001b[0m\n\u001b[0;32m--> 252\u001b[0;31m             return [func(*args, **kwargs)\n\u001b[0m\u001b[1;32m    253\u001b[0m                     for func, args, kwargs in self.items]\n\u001b[1;32m    254\u001b[0m \u001b[0;34m\u001b[0m\u001b[0m\n",
      "\u001b[0;32m~/.local/lib/python3.8/site-packages/sklearn/model_selection/_validation.py\u001b[0m in \u001b[0;36m_fit_and_score\u001b[0;34m(estimator, X, y, scorer, train, test, verbose, parameters, fit_params, return_train_score, return_parameters, return_n_test_samples, return_times, return_estimator, error_score)\u001b[0m\n\u001b[1;32m    522\u001b[0m     \u001b[0mstart_time\u001b[0m \u001b[0;34m=\u001b[0m \u001b[0mtime\u001b[0m\u001b[0;34m.\u001b[0m\u001b[0mtime\u001b[0m\u001b[0;34m(\u001b[0m\u001b[0;34m)\u001b[0m\u001b[0;34m\u001b[0m\u001b[0;34m\u001b[0m\u001b[0m\n\u001b[1;32m    523\u001b[0m \u001b[0;34m\u001b[0m\u001b[0m\n\u001b[0;32m--> 524\u001b[0;31m     \u001b[0mX_train\u001b[0m\u001b[0;34m,\u001b[0m \u001b[0my_train\u001b[0m \u001b[0;34m=\u001b[0m \u001b[0m_safe_split\u001b[0m\u001b[0;34m(\u001b[0m\u001b[0mestimator\u001b[0m\u001b[0;34m,\u001b[0m \u001b[0mX\u001b[0m\u001b[0;34m,\u001b[0m \u001b[0my\u001b[0m\u001b[0;34m,\u001b[0m \u001b[0mtrain\u001b[0m\u001b[0;34m)\u001b[0m\u001b[0;34m\u001b[0m\u001b[0;34m\u001b[0m\u001b[0m\n\u001b[0m\u001b[1;32m    525\u001b[0m     \u001b[0mX_test\u001b[0m\u001b[0;34m,\u001b[0m \u001b[0my_test\u001b[0m \u001b[0;34m=\u001b[0m \u001b[0m_safe_split\u001b[0m\u001b[0;34m(\u001b[0m\u001b[0mestimator\u001b[0m\u001b[0;34m,\u001b[0m \u001b[0mX\u001b[0m\u001b[0;34m,\u001b[0m \u001b[0my\u001b[0m\u001b[0;34m,\u001b[0m \u001b[0mtest\u001b[0m\u001b[0;34m,\u001b[0m \u001b[0mtrain\u001b[0m\u001b[0;34m)\u001b[0m\u001b[0;34m\u001b[0m\u001b[0;34m\u001b[0m\u001b[0m\n\u001b[1;32m    526\u001b[0m \u001b[0;34m\u001b[0m\u001b[0m\n",
      "\u001b[0;32m~/.local/lib/python3.8/site-packages/sklearn/utils/metaestimators.py\u001b[0m in \u001b[0;36m_safe_split\u001b[0;34m(estimator, X, y, indices, train_indices)\u001b[0m\n\u001b[1;32m    196\u001b[0m         \u001b[0;31m# X is a precomputed square kernel matrix\u001b[0m\u001b[0;34m\u001b[0m\u001b[0;34m\u001b[0m\u001b[0;34m\u001b[0m\u001b[0m\n\u001b[1;32m    197\u001b[0m         \u001b[0;32mif\u001b[0m \u001b[0mX\u001b[0m\u001b[0;34m.\u001b[0m\u001b[0mshape\u001b[0m\u001b[0;34m[\u001b[0m\u001b[0;36m0\u001b[0m\u001b[0;34m]\u001b[0m \u001b[0;34m!=\u001b[0m \u001b[0mX\u001b[0m\u001b[0;34m.\u001b[0m\u001b[0mshape\u001b[0m\u001b[0;34m[\u001b[0m\u001b[0;36m1\u001b[0m\u001b[0;34m]\u001b[0m\u001b[0;34m:\u001b[0m\u001b[0;34m\u001b[0m\u001b[0;34m\u001b[0m\u001b[0m\n\u001b[0;32m--> 198\u001b[0;31m             \u001b[0;32mraise\u001b[0m \u001b[0mValueError\u001b[0m\u001b[0;34m(\u001b[0m\u001b[0;34m\"X should be a square kernel matrix\"\u001b[0m\u001b[0;34m)\u001b[0m\u001b[0;34m\u001b[0m\u001b[0;34m\u001b[0m\u001b[0m\n\u001b[0m\u001b[1;32m    199\u001b[0m         \u001b[0;32mif\u001b[0m \u001b[0mtrain_indices\u001b[0m \u001b[0;32mis\u001b[0m \u001b[0;32mNone\u001b[0m\u001b[0;34m:\u001b[0m\u001b[0;34m\u001b[0m\u001b[0;34m\u001b[0m\u001b[0m\n\u001b[1;32m    200\u001b[0m             \u001b[0mX_subset\u001b[0m \u001b[0;34m=\u001b[0m \u001b[0mX\u001b[0m\u001b[0;34m[\u001b[0m\u001b[0mnp\u001b[0m\u001b[0;34m.\u001b[0m\u001b[0mix_\u001b[0m\u001b[0;34m(\u001b[0m\u001b[0mindices\u001b[0m\u001b[0;34m,\u001b[0m \u001b[0mindices\u001b[0m\u001b[0;34m)\u001b[0m\u001b[0;34m]\u001b[0m\u001b[0;34m\u001b[0m\u001b[0;34m\u001b[0m\u001b[0m\n",
      "\u001b[0;31mValueError\u001b[0m: X should be a square kernel matrix"
     ]
    }
   ],
   "source": [
    "# Find parameters\n",
    "svr = SVR()\n",
    "#fkl = FireCustomKFold(n_splits=5)\n",
    "grid = param_grid = {\n",
    "    'kernel': ['linear', 'poly', 'rbf', 'sigmoid', 'precomputed'],\n",
    "    'degree': range(2, 5),\n",
    "    'coef0': stats.uniform().ppf(np.arange(1e-3, 1, 0.001)), \n",
    "    'C': stats.uniform().ppf([1, 10, 100])}\n",
    "sc = StandardScaler()\n",
    "search = GridSearchCV(svr, param_grid, cv=[(_train.index.values, _valid.index.values)])\n",
    "XX, YY = process_data(train_all)\n",
    "search.fit(sc.fit_transform(XX), YY)"
   ]
  },
  {
   "cell_type": "code",
   "execution_count": 192,
   "metadata": {},
   "outputs": [
    {
     "ename": "AttributeError",
     "evalue": "'GridSearchCV' object has no attribute 'best_params'",
     "output_type": "error",
     "traceback": [
      "\u001b[0;31m---------------------------------------------------------------------------\u001b[0m",
      "\u001b[0;31mAttributeError\u001b[0m                            Traceback (most recent call last)",
      "\u001b[0;32m<ipython-input-192-09febbef2baa>\u001b[0m in \u001b[0;36m<module>\u001b[0;34m\u001b[0m\n\u001b[0;32m----> 1\u001b[0;31m \u001b[0mprint\u001b[0m\u001b[0;34m(\u001b[0m\u001b[0msearch\u001b[0m\u001b[0;34m.\u001b[0m\u001b[0mbest_params\u001b[0m\u001b[0;34m)\u001b[0m\u001b[0;34m\u001b[0m\u001b[0;34m\u001b[0m\u001b[0m\n\u001b[0m",
      "\u001b[0;31mAttributeError\u001b[0m: 'GridSearchCV' object has no attribute 'best_params'"
     ]
    }
   ],
   "source": [
    "print(search.best_params)"
   ]
  },
  {
   "cell_type": "markdown",
   "metadata": {
    "colab_type": "text",
    "id": "sIRFzOxTx3sE"
   },
   "source": [
    "# Model implementation"
   ]
  },
  {
   "cell_type": "code",
   "execution_count": 216,
   "metadata": {
    "colab": {
     "base_uri": "https://localhost:8080/",
     "height": 34
    },
    "colab_type": "code",
    "id": "l-8j9zDpzUpc",
    "outputId": "9056a953-7826-469e-b00d-e76490275463"
   },
   "outputs": [
    {
     "name": "stderr",
     "output_type": "stream",
     "text": [
      "/home/boladji/.local/lib/python3.8/site-packages/pandas/core/indexing.py:1765: SettingWithCopyWarning: \n",
      "A value is trying to be set on a copy of a slice from a DataFrame.\n",
      "Try using .loc[row_indexer,col_indexer] = value instead\n",
      "\n",
      "See the caveats in the documentation: https://pandas.pydata.org/pandas-docs/stable/user_guide/indexing.html#returning-a-view-versus-a-copy\n",
      "  isetter(loc, value)\n",
      "/usr/lib/python3/dist-packages/numpy/lib/nanfunctions.py:1545: RuntimeWarning: overflow encountered in multiply\n",
      "  sqr = np.multiply(arr, arr, out=arr)\n"
     ]
    },
    {
     "name": "stdout",
     "output_type": "stream",
     "text": [
      "(18655, 29) (63960, 29)\n"
     ]
    },
    {
     "data": {
      "text/plain": [
       "0.026593768189874814"
      ]
     },
     "execution_count": 216,
     "metadata": {},
     "output_type": "execute_result"
    }
   ],
   "source": [
    "# Get our X and y training and validation sets ready\n",
    "#X_train, y_train = train[in_cols], train[target_col]\n",
    "#X_valid, y_valid = valid[in_cols], valid[target_col]\n",
    "X_train, y_train = process_data(_train)\n",
    "X_val, y_val = process_data(_valid)\n",
    "\n",
    "print(X_val.shape, X_train.shape)\n",
    "\n",
    "# # Find parameters\n",
    "# svr = SVR()\n",
    "# fkl = FireCustomKFold(n_splits=5)\n",
    "# grid = param_grid = {\n",
    "#     'kernel': ['linear', 'poly', 'rbf', 'sigmoid', 'precomputed'],\n",
    "#     'degree': range(2, 5),\n",
    "#     'coef0': loguniform(1e-4, 1e-3), \n",
    "#     'C': loguniform(1e0, 1e3),\n",
    "#     'base_estimator__max_depth': [2, 4, 6, 8]}\n",
    "\n",
    "# search = GridSearchCV(svr, param_grid, cv=fkl)\n",
    "# XX, YY = process_data(train_all)\n",
    "# search.fit(XX, YY)\n",
    "\n",
    "# Create and fit the model\n",
    "pipeline = Pipeline([('scaler', StandardScaler()), ('ridge', RidgeCV())])\n",
    "pipeline.fit(X_train, y_train)\n",
    "\n",
    "# Make predictions\n",
    "preds = pipeline.predict(X_val)\n",
    "\n",
    "# Score\n",
    "#y_val.fillna(0, inplace=True)\n",
    "#preds.fillna(0, inplace=True)\n",
    "mean_squared_error(y_val, preds)**0.5 # RMSE - should match Zindi score. Lower is better"
   ]
  },
  {
   "cell_type": "code",
   "execution_count": 217,
   "metadata": {},
   "outputs": [
    {
     "name": "stderr",
     "output_type": "stream",
     "text": [
      "/usr/lib/python3/dist-packages/numpy/lib/nanfunctions.py:1545: RuntimeWarning: overflow encountered in multiply\n",
      "  sqr = np.multiply(arr, arr, out=arr)\n"
     ]
    },
    {
     "data": {
      "text/plain": [
       "Pipeline(steps=[('scaler', StandardScaler()),\n",
       "                ('ridge', RidgeCV(alphas=array([ 0.1,  1. , 10. ])))])"
      ]
     },
     "execution_count": 217,
     "metadata": {},
     "output_type": "execute_result"
    }
   ],
   "source": [
    "# Train on the full dataset\n",
    "X_full, y_full = process_data(train_all)\n",
    "# # Find parameters\n",
    "# svr = SVR()\n",
    "# fkl = FireCustomKFold(n_splits=5)\n",
    "# grid = param_grid = {\n",
    "#     'kernel': ['linear', 'poly', 'rbf', 'sigmoid', 'precomputed'],\n",
    "#     'degree': range(2, 5),\n",
    "#     'coef0': loguniform(1e-4, 1e-3), \n",
    "#     'C': loguniform(1e0, 1e3),\n",
    "#     'base_estimator__max_depth': [2, 4, 6, 8]}\n",
    "\n",
    "# search = GridSearchCV(svr, param_grid, cv=fkl)\n",
    "# XX, YY = process_data(train_all)\n",
    "# search.fit(XX, YY)\n",
    "\n",
    "# Create and fit the model\n",
    "pipeline = Pipeline([('scaler', StandardScaler()), ('ridge', RidgeCV())])\n",
    "pipeline.fit(X_full, y_full)\n"
   ]
  },
  {
   "cell_type": "code",
   "execution_count": 17,
   "metadata": {
    "colab": {},
    "colab_type": "code",
    "id": "isI_-sfnzXED"
   },
   "outputs": [],
   "source": [
    "# Exercise. Try a RandomForestRegressor model. Use n_estimators=10 if the default takes too long to run, and experiment with the max_depth parameter."
   ]
  },
  {
   "cell_type": "markdown",
   "metadata": {
    "colab_type": "text",
    "id": "Eq7DM0URkkai"
   },
   "source": [
    "# Making A Submission\n",
    "\n",
    "Once you've got some features and a model you're happy with, it's time to submit!"
   ]
  },
  {
   "cell_type": "code",
   "execution_count": 206,
   "metadata": {
    "colab": {
     "base_uri": "https://localhost:8080/",
     "height": 204
    },
    "colab_type": "code",
    "id": "bb8DdgWskqQs",
    "outputId": "ea58dea4-7ba7-4ced-d1e5-5d7f2aef02ce"
   },
   "outputs": [
    {
     "data": {
      "text/html": [
       "<div>\n",
       "<style scoped>\n",
       "    .dataframe tbody tr th:only-of-type {\n",
       "        vertical-align: middle;\n",
       "    }\n",
       "\n",
       "    .dataframe tbody tr th {\n",
       "        vertical-align: top;\n",
       "    }\n",
       "\n",
       "    .dataframe thead th {\n",
       "        text-align: right;\n",
       "    }\n",
       "</style>\n",
       "<table border=\"1\" class=\"dataframe\">\n",
       "  <thead>\n",
       "    <tr style=\"text-align: right;\">\n",
       "      <th></th>\n",
       "      <th>ID</th>\n",
       "      <th>burn_area</th>\n",
       "    </tr>\n",
       "  </thead>\n",
       "  <tbody>\n",
       "    <tr>\n",
       "      <th>0</th>\n",
       "      <td>0_2014-01-01</td>\n",
       "      <td>0</td>\n",
       "    </tr>\n",
       "    <tr>\n",
       "      <th>1</th>\n",
       "      <td>1_2014-01-01</td>\n",
       "      <td>0</td>\n",
       "    </tr>\n",
       "    <tr>\n",
       "      <th>2</th>\n",
       "      <td>2_2014-01-01</td>\n",
       "      <td>0</td>\n",
       "    </tr>\n",
       "    <tr>\n",
       "      <th>3</th>\n",
       "      <td>3_2014-01-01</td>\n",
       "      <td>0</td>\n",
       "    </tr>\n",
       "    <tr>\n",
       "      <th>4</th>\n",
       "      <td>4_2014-01-01</td>\n",
       "      <td>0</td>\n",
       "    </tr>\n",
       "  </tbody>\n",
       "</table>\n",
       "</div>"
      ],
      "text/plain": [
       "             ID  burn_area\n",
       "0  0_2014-01-01          0\n",
       "1  1_2014-01-01          0\n",
       "2  2_2014-01-01          0\n",
       "3  3_2014-01-01          0\n",
       "4  4_2014-01-01          0"
      ]
     },
     "execution_count": 206,
     "metadata": {},
     "output_type": "execute_result"
    }
   ],
   "source": [
    "# Look at the sample submission file\n",
    "ss = pd.read_csv('submission/SampleSubmission.csv')\n",
    "ss.head()"
   ]
  },
  {
   "cell_type": "code",
   "execution_count": 218,
   "metadata": {
    "colab": {
     "base_uri": "https://localhost:8080/",
     "height": 309
    },
    "colab_type": "code",
    "id": "MlKjnZ8WkvaX",
    "outputId": "9b363b73-ea6e-45bb-e35d-0d43dc75fc4a"
   },
   "outputs": [
    {
     "data": {
      "text/html": [
       "<div>\n",
       "<style scoped>\n",
       "    .dataframe tbody tr th:only-of-type {\n",
       "        vertical-align: middle;\n",
       "    }\n",
       "\n",
       "    .dataframe tbody tr th {\n",
       "        vertical-align: top;\n",
       "    }\n",
       "\n",
       "    .dataframe thead th {\n",
       "        text-align: right;\n",
       "    }\n",
       "</style>\n",
       "<table border=\"1\" class=\"dataframe\">\n",
       "  <thead>\n",
       "    <tr style=\"text-align: right;\">\n",
       "      <th></th>\n",
       "      <th>climate_aet</th>\n",
       "      <th>climate_def</th>\n",
       "      <th>climate_pdsi</th>\n",
       "      <th>climate_pet</th>\n",
       "      <th>climate_pr</th>\n",
       "      <th>climate_ro</th>\n",
       "      <th>climate_soil</th>\n",
       "      <th>climate_srad</th>\n",
       "      <th>climate_tmmn</th>\n",
       "      <th>climate_tmmx</th>\n",
       "      <th>...</th>\n",
       "      <th>landcover_6</th>\n",
       "      <th>landcover_7</th>\n",
       "      <th>landcover_8</th>\n",
       "      <th>precipitation</th>\n",
       "      <th>cold</th>\n",
       "      <th>warm</th>\n",
       "      <th>warmer</th>\n",
       "      <th>hot</th>\n",
       "      <th>exp_climate_pr</th>\n",
       "      <th>exp_precipitation</th>\n",
       "    </tr>\n",
       "  </thead>\n",
       "  <tbody>\n",
       "    <tr>\n",
       "      <th>0</th>\n",
       "      <td>1146</td>\n",
       "      <td>74</td>\n",
       "      <td>-451</td>\n",
       "      <td>1220</td>\n",
       "      <td>120</td>\n",
       "      <td>6</td>\n",
       "      <td>212</td>\n",
       "      <td>1974</td>\n",
       "      <td>217</td>\n",
       "      <td>303</td>\n",
       "      <td>...</td>\n",
       "      <td>0.530016</td>\n",
       "      <td>0.013524</td>\n",
       "      <td>0.0</td>\n",
       "      <td>0.404243</td>\n",
       "      <td>1.0</td>\n",
       "      <td>0.0</td>\n",
       "      <td>0.0</td>\n",
       "      <td>0.0</td>\n",
       "      <td>1.304181e+52</td>\n",
       "      <td>1.498168</td>\n",
       "    </tr>\n",
       "    <tr>\n",
       "      <th>1</th>\n",
       "      <td>1118</td>\n",
       "      <td>98</td>\n",
       "      <td>-405</td>\n",
       "      <td>1216</td>\n",
       "      <td>117</td>\n",
       "      <td>6</td>\n",
       "      <td>330</td>\n",
       "      <td>1973</td>\n",
       "      <td>216</td>\n",
       "      <td>304</td>\n",
       "      <td>...</td>\n",
       "      <td>0.593118</td>\n",
       "      <td>0.000000</td>\n",
       "      <td>0.0</td>\n",
       "      <td>0.421489</td>\n",
       "      <td>1.0</td>\n",
       "      <td>0.0</td>\n",
       "      <td>0.0</td>\n",
       "      <td>0.0</td>\n",
       "      <td>6.493134e+50</td>\n",
       "      <td>1.524230</td>\n",
       "    </tr>\n",
       "    <tr>\n",
       "      <th>2</th>\n",
       "      <td>1067</td>\n",
       "      <td>137</td>\n",
       "      <td>-468</td>\n",
       "      <td>1204</td>\n",
       "      <td>111</td>\n",
       "      <td>6</td>\n",
       "      <td>194</td>\n",
       "      <td>1958</td>\n",
       "      <td>214</td>\n",
       "      <td>302</td>\n",
       "      <td>...</td>\n",
       "      <td>0.745209</td>\n",
       "      <td>0.000000</td>\n",
       "      <td>0.0</td>\n",
       "      <td>0.419122</td>\n",
       "      <td>1.0</td>\n",
       "      <td>0.0</td>\n",
       "      <td>0.0</td>\n",
       "      <td>0.0</td>\n",
       "      <td>1.609487e+48</td>\n",
       "      <td>1.520626</td>\n",
       "    </tr>\n",
       "    <tr>\n",
       "      <th>3</th>\n",
       "      <td>969</td>\n",
       "      <td>187</td>\n",
       "      <td>-533</td>\n",
       "      <td>1156</td>\n",
       "      <td>101</td>\n",
       "      <td>5</td>\n",
       "      <td>78</td>\n",
       "      <td>1954</td>\n",
       "      <td>202</td>\n",
       "      <td>290</td>\n",
       "      <td>...</td>\n",
       "      <td>0.598507</td>\n",
       "      <td>0.000000</td>\n",
       "      <td>0.0</td>\n",
       "      <td>0.404596</td>\n",
       "      <td>1.0</td>\n",
       "      <td>0.0</td>\n",
       "      <td>0.0</td>\n",
       "      <td>0.0</td>\n",
       "      <td>7.307060e+43</td>\n",
       "      <td>1.498696</td>\n",
       "    </tr>\n",
       "    <tr>\n",
       "      <th>4</th>\n",
       "      <td>927</td>\n",
       "      <td>270</td>\n",
       "      <td>-505</td>\n",
       "      <td>1197</td>\n",
       "      <td>96</td>\n",
       "      <td>5</td>\n",
       "      <td>139</td>\n",
       "      <td>1939</td>\n",
       "      <td>210</td>\n",
       "      <td>301</td>\n",
       "      <td>...</td>\n",
       "      <td>0.682013</td>\n",
       "      <td>0.000000</td>\n",
       "      <td>0.0</td>\n",
       "      <td>0.371100</td>\n",
       "      <td>1.0</td>\n",
       "      <td>0.0</td>\n",
       "      <td>0.0</td>\n",
       "      <td>0.0</td>\n",
       "      <td>4.923458e+41</td>\n",
       "      <td>1.449329</td>\n",
       "    </tr>\n",
       "  </tbody>\n",
       "</table>\n",
       "<p>5 rows × 29 columns</p>\n",
       "</div>"
      ],
      "text/plain": [
       "   climate_aet  climate_def  climate_pdsi  climate_pet  climate_pr  \\\n",
       "0         1146           74          -451         1220         120   \n",
       "1         1118           98          -405         1216         117   \n",
       "2         1067          137          -468         1204         111   \n",
       "3          969          187          -533         1156         101   \n",
       "4          927          270          -505         1197          96   \n",
       "\n",
       "   climate_ro  climate_soil  climate_srad  climate_tmmn  climate_tmmx  ...  \\\n",
       "0           6           212          1974           217           303  ...   \n",
       "1           6           330          1973           216           304  ...   \n",
       "2           6           194          1958           214           302  ...   \n",
       "3           5            78          1954           202           290  ...   \n",
       "4           5           139          1939           210           301  ...   \n",
       "\n",
       "   landcover_6  landcover_7  landcover_8  precipitation  cold  warm  warmer  \\\n",
       "0     0.530016     0.013524          0.0       0.404243   1.0   0.0     0.0   \n",
       "1     0.593118     0.000000          0.0       0.421489   1.0   0.0     0.0   \n",
       "2     0.745209     0.000000          0.0       0.419122   1.0   0.0     0.0   \n",
       "3     0.598507     0.000000          0.0       0.404596   1.0   0.0     0.0   \n",
       "4     0.682013     0.000000          0.0       0.371100   1.0   0.0     0.0   \n",
       "\n",
       "   hot  exp_climate_pr  exp_precipitation  \n",
       "0  0.0    1.304181e+52           1.498168  \n",
       "1  0.0    6.493134e+50           1.524230  \n",
       "2  0.0    1.609487e+48           1.520626  \n",
       "3  0.0    7.307060e+43           1.498696  \n",
       "4  0.0    4.923458e+41           1.449329  \n",
       "\n",
       "[5 rows x 29 columns]"
      ]
     },
     "execution_count": 218,
     "metadata": {},
     "output_type": "execute_result"
    }
   ],
   "source": [
    "# And the test data\n",
    "test['date'] = pd.to_datetime(train['ID'].apply(lambda x: x.split('_')[1]))\n",
    "X_test = process_data(test, test=True)\n",
    "X_test.head()"
   ]
  },
  {
   "cell_type": "code",
   "execution_count": 219,
   "metadata": {},
   "outputs": [
    {
     "data": {
      "text/html": [
       "<div>\n",
       "<style scoped>\n",
       "    .dataframe tbody tr th:only-of-type {\n",
       "        vertical-align: middle;\n",
       "    }\n",
       "\n",
       "    .dataframe tbody tr th {\n",
       "        vertical-align: top;\n",
       "    }\n",
       "\n",
       "    .dataframe thead th {\n",
       "        text-align: right;\n",
       "    }\n",
       "</style>\n",
       "<table border=\"1\" class=\"dataframe\">\n",
       "  <thead>\n",
       "    <tr style=\"text-align: right;\">\n",
       "      <th></th>\n",
       "      <th>burn_area</th>\n",
       "    </tr>\n",
       "  </thead>\n",
       "  <tbody>\n",
       "    <tr>\n",
       "      <th>count</th>\n",
       "      <td>25584.000000</td>\n",
       "    </tr>\n",
       "    <tr>\n",
       "      <th>mean</th>\n",
       "      <td>0.008756</td>\n",
       "    </tr>\n",
       "    <tr>\n",
       "      <th>std</th>\n",
       "      <td>0.011831</td>\n",
       "    </tr>\n",
       "    <tr>\n",
       "      <th>min</th>\n",
       "      <td>0.000000</td>\n",
       "    </tr>\n",
       "    <tr>\n",
       "      <th>25%</th>\n",
       "      <td>0.000000</td>\n",
       "    </tr>\n",
       "    <tr>\n",
       "      <th>50%</th>\n",
       "      <td>0.002500</td>\n",
       "    </tr>\n",
       "    <tr>\n",
       "      <th>75%</th>\n",
       "      <td>0.015694</td>\n",
       "    </tr>\n",
       "    <tr>\n",
       "      <th>max</th>\n",
       "      <td>0.072556</td>\n",
       "    </tr>\n",
       "  </tbody>\n",
       "</table>\n",
       "</div>"
      ],
      "text/plain": [
       "          burn_area\n",
       "count  25584.000000\n",
       "mean       0.008756\n",
       "std        0.011831\n",
       "min        0.000000\n",
       "25%        0.000000\n",
       "50%        0.002500\n",
       "75%        0.015694\n",
       "max        0.072556"
      ]
     },
     "execution_count": 219,
     "metadata": {},
     "output_type": "execute_result"
    }
   ],
   "source": [
    "preds = pipeline.predict(X_test) # fillna(0) here could be improved by examining the missing data and filling more appropriately.\n",
    "\n",
    "# Add to submission dataframe\n",
    "ss.loc[:, 'burn_area'] = preds\n",
    "\n",
    "# Depending on your model, you may have some predictions that don't make sense. Let's constrain our predictions to the range (0, 1)\n",
    "#ss['Prediction'] = ss['Prediction'].clip(0, 1)\n",
    "\n",
    "ss.loc[:, 'burn_area'] = ss.loc[:, 'burn_area'].clip(0, 1)\n",
    "# View\n",
    "ss.describe()"
   ]
  },
  {
   "cell_type": "code",
   "execution_count": 220,
   "metadata": {
    "colab": {},
    "colab_type": "code",
    "id": "13Ns-f5blIEs"
   },
   "outputs": [],
   "source": [
    "# Save ready for submission:\n",
    "ss.to_csv('submission/submission.csv', index=False)"
   ]
  },
  {
   "cell_type": "markdown",
   "metadata": {
    "colab_type": "text",
    "id": "OeyjG8-4mK7Y"
   },
   "source": [
    "# Tips for improving your score\n",
    "\n",
    "- Once you've chosen a model, you should re-train it on all the data (including that which you previously held back for validation) to give it the best chance of succeeding\n",
    "- There is a timeseries component to this challenge. Think about how to use this to improve your accuracy.\n",
    "- Spend some time on feature engineering. Since no external data is allowed for this challenge, the winning solution will be the one that gets the most out of the data provided."
   ]
  },
  {
   "cell_type": "code",
   "execution_count": null,
   "metadata": {
    "colab": {},
    "colab_type": "code",
    "id": "yUuqtHNKnO3r"
   },
   "outputs": [],
   "source": []
  }
 ],
 "metadata": {
  "colab": {
   "collapsed_sections": [],
   "name": "Fighting Fire with Data - Starter Notebook.ipynb",
   "provenance": [],
   "toc_visible": true
  },
  "kernelspec": {
   "display_name": "Python 3",
   "language": "python",
   "name": "python3"
  },
  "language_info": {
   "codemirror_mode": {
    "name": "ipython",
    "version": 3
   },
   "file_extension": ".py",
   "mimetype": "text/x-python",
   "name": "python",
   "nbconvert_exporter": "python",
   "pygments_lexer": "ipython3",
   "version": "3.8.5"
  }
 },
 "nbformat": 4,
 "nbformat_minor": 1
}
